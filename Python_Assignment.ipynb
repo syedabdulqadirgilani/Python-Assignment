{
  "nbformat": 4,
  "nbformat_minor": 0,
  "metadata": {
    "colab": {
      "name": "Python Assignment.ipynb",
      "provenance": []
    },
    "kernelspec": {
      "name": "python3",
      "display_name": "Python 3"
    },
    "language_info": {
      "name": "python"
    }
  },
  "cells": [
    {
      "cell_type": "code",
      "metadata": {
        "colab": {
          "base_uri": "https://localhost:8080/"
        },
        "id": "7E7GfrDU5BR-",
        "outputId": "296a550f-4cbd-4bdd-9390-404a4700b31b"
      },
      "source": [
        "# Make a calculator using Python with addition , subtraction ,\n",
        "# multiplication ,division and power.\n",
        "# Function for Addition \n",
        "def add(n_1,n_2):\n",
        "    return n_1+n_2\n",
        "# Function to subtract two numbers \n",
        "def subtract(n_1,n_2):\n",
        "    return n_1-n_2\n",
        "# Function to multiply two numbers\n",
        "def multiply(n_1,n_2):\n",
        "    return n_1*n_2\n",
        "# Function to divide two numbers\n",
        "def divide(n_1,n_2):\n",
        "    return n_1/n_2\n",
        "print(\"Enter 1 for Addition, 2 for Subtraction, 3 for Multiplication and 4 for Division\")\n",
        "# Take input from the user \n",
        "u_i= int(input(\"Select 1,2,3,4 \"))\n",
        "n_1 =int(input(\"Enter first number: \"))\n",
        "n_2 =int(input(\"Enter second number: \"))\n",
        "if u_i == 1:\n",
        "    print(n_1,\"+\",n_2, \"=\",\n",
        "                    add(n_1, n_2))\n",
        "elif u_i == 2:\n",
        "    print(n_1, \"-\", n_2, \"=\",\n",
        "                    subtract(n_1, n_2))\n",
        "elif u_i == 3:\n",
        "    print(n_1, \"*\", n_2, \"=\",\n",
        "                    multiply(n_1, n_2)) \n",
        "elif u_i == 4:\n",
        "    print(n_1, \"/\", n_2, \"=\",\n",
        "                    divide(n_1, n_2))\n",
        "else:\n",
        "    print(\"Invalid input\")"
      ],
      "execution_count": 34,
      "outputs": [
        {
          "output_type": "stream",
          "name": "stdout",
          "text": [
            "Enter 1 for Addition, 2 for Subtraction, 3 for Multiplication and 4 for Division\n",
            "Select 1,2,3,4 4\n",
            "Enter first number: 6\n",
            "Enter second number: 2\n",
            "6 / 2 = 3.0\n"
          ]
        }
      ]
    },
    {
      "cell_type": "code",
      "metadata": {
        "colab": {
          "base_uri": "https://localhost:8080/"
        },
        "id": "4duuVcp46KZ3",
        "outputId": "b47c24fc-e6fa-4b92-acd2-e7ea07adf77a"
      },
      "source": [
        "# 2. Write a program to check if there is any numeric value in list using for\n",
        "# loop.\n",
        "list = [1,2,3,4,5,6,7,8,9]\n",
        "print(\"Checking if 1 exists in list ( using loop ) : \")\n",
        "# Checking if 1 exists in list\n",
        "# using for loop\n",
        "for i in test_list:\n",
        "    if(i == 1) :\n",
        "        print (\"Element Exists\")\n",
        " \n",
        "print(\"Checking if 3 exists in list ( using in ) : \")\n",
        " \n",
        "# Checking if 3 exists in list\n",
        "if (3 in test_list):\n",
        "    print (\"Element Exists\")\n",
        "6 in list "
      ],
      "execution_count": 36,
      "outputs": [
        {
          "output_type": "stream",
          "name": "stdout",
          "text": [
            "Checking if 1 exists in list ( using loop ) : \n",
            "Element Exists\n",
            "Checking if 3 exists in list ( using in ) : \n",
            "Element Exists\n"
          ]
        },
        {
          "output_type": "execute_result",
          "data": {
            "text/plain": [
              "True"
            ]
          },
          "metadata": {},
          "execution_count": 36
        }
      ]
    },
    {
      "cell_type": "code",
      "metadata": {
        "colab": {
          "base_uri": "https://localhost:8080/"
        },
        "id": "AQazxUvp_zHL",
        "outputId": "331e1a1d-e4bc-494c-938f-ce920e45827a"
      },
      "source": [
        "# 3. Write a Python script to add a key to a dictionary.\n",
        "d1= {0:'A',1:'B'}\n",
        "print('Dictionary before Adding value ',d1)\n",
        "d1.update({2:'C'})\n",
        "print('Dictionary after adding value ',d1)\n",
        "d1[4]='D'\n",
        "print('Addition in dictionary ',d1)"
      ],
      "execution_count": 41,
      "outputs": [
        {
          "output_type": "stream",
          "name": "stdout",
          "text": [
            "Dictionary before Adding value  {0: 'A', 1: 'B'}\n",
            "Dictionary after adding value  {0: 'A', 1: 'B', 2: 'C'}\n",
            "Addition in dictionary  {0: 'A', 1: 'B', 2: 'C', 4: 'D'}\n"
          ]
        }
      ]
    },
    {
      "cell_type": "code",
      "metadata": {
        "colab": {
          "base_uri": "https://localhost:8080/"
        },
        "id": "qflqqHAPAcfS",
        "outputId": "03d2dc52-f0b4-4246-a4a9-f7a8fe1813d2"
      },
      "source": [
        "# 4. Write a Python program to sum all the numeric items in a dictionary.\n",
        "my_dict = {50:10,20:10,30:40}\n",
        "print(\"The Sum of Dictionary Keys \",sum(my_dict))\n",
        "print(\"Keys Sum of Dictionary\",sum(my_dict.keys()))\n",
        "print(\"Values Sum of Dictionary\",sum(my_dict.values()))"
      ],
      "execution_count": 50,
      "outputs": [
        {
          "output_type": "stream",
          "name": "stdout",
          "text": [
            "The Sum of Dictionary Keys  100\n",
            "Keys Sum of Dictionary 100\n",
            "Values Sum of Dictionary 60\n"
          ]
        }
      ]
    },
    {
      "cell_type": "code",
      "metadata": {
        "colab": {
          "base_uri": "https://localhost:8080/"
        },
        "id": "egpFyr_ABH91",
        "outputId": "96ec28ff-88ae-498c-f2cc-e617e8002b12"
      },
      "source": [
        "# 5. Write a program to identify duplicate values from list.\n",
        "l1=[1,2,3,3,3,3,4,4]\n",
        "print('3 in List', l1.count(3),' times')\n",
        "print('4 in List', l1.count(4),' times')\n",
        "print('After removing duplicates, we  have a set',set(l1))"
      ],
      "execution_count": 63,
      "outputs": [
        {
          "output_type": "stream",
          "name": "stdout",
          "text": [
            "3 in List 4  times\n",
            "4 in List 2  times\n",
            "After removing duplicates, we  have a set {1, 2, 3, 4}\n"
          ]
        }
      ]
    },
    {
      "cell_type": "code",
      "metadata": {
        "colab": {
          "base_uri": "https://localhost:8080/"
        },
        "id": "g6pEa3LxCV2Z",
        "outputId": "325c2e21-ead8-4c33-8abe-7fe58b24b7fe"
      },
      "source": [
        "# 6. Write a Python script to check if a given key already exists in a\n",
        "# dictionary\n",
        "d = {1: 10, 2: 20, 3: 30, 4: 40, 5: 50}\n",
        "def is_key_present(x):\n",
        "  if x in d:\n",
        "      print('Key',x, 'is present in the dictionary')\n",
        "  else:\n",
        "      print('Key',x,'is not present in the dictionary')\n",
        "is_key_present(5)\n",
        "is_key_present(9)\n",
        "print(1 in d)\n",
        "print(2 not in d)\n",
        "print(6 not in d)"
      ],
      "execution_count": 72,
      "outputs": [
        {
          "output_type": "stream",
          "name": "stdout",
          "text": [
            "Key 5 is present in the dictionary\n",
            "Key 9 is not present in the dictionary\n",
            "True\n",
            "False\n",
            "True\n"
          ]
        }
      ]
    },
    {
      "cell_type": "code",
      "metadata": {
        "id": "Ex2vwdydEkVk"
      },
      "source": [
        ""
      ],
      "execution_count": null,
      "outputs": []
    }
  ]
}